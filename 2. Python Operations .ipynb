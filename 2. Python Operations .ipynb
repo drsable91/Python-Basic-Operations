{
 "cells": [
  {
   "cell_type": "markdown",
   "id": "a746cbe6",
   "metadata": {},
   "source": [
    "# Python Arithmatic Operations"
   ]
  },
  {
   "cell_type": "code",
   "execution_count": 6,
   "id": "3a1e216c",
   "metadata": {},
   "outputs": [
    {
     "name": "stdout",
     "output_type": "stream",
     "text": [
      "24\n",
      "-16\n",
      "80\n",
      "0.2\n"
     ]
    }
   ],
   "source": [
    "x=4\n",
    "y=20\n",
    "\n",
    "\n",
    "print(x+y)\n",
    "print(x-y)\n",
    "print(x*y)\n",
    "print(x/y)"
   ]
  },
  {
   "cell_type": "markdown",
   "id": "ed8b0c98",
   "metadata": {},
   "source": [
    "### Modulus (Reminder )"
   ]
  },
  {
   "cell_type": "code",
   "execution_count": 11,
   "id": "f133782f",
   "metadata": {},
   "outputs": [
    {
     "name": "stdout",
     "output_type": "stream",
     "text": [
      "2\n"
     ]
    }
   ],
   "source": [
    "x=5\n",
    "y=3\n",
    "\n",
    "print(x % y)"
   ]
  },
  {
   "cell_type": "markdown",
   "id": "4f80e784",
   "metadata": {},
   "source": [
    "### Exponention  (Ghatank)"
   ]
  },
  {
   "cell_type": "code",
   "execution_count": 1,
   "id": "df8816a8",
   "metadata": {},
   "outputs": [
    {
     "name": "stdout",
     "output_type": "stream",
     "text": [
      "32\n"
     ]
    }
   ],
   "source": [
    "x=2\n",
    "y=5\n",
    "\n",
    "print(x**y)"
   ]
  },
  {
   "cell_type": "markdown",
   "id": "1313f61d",
   "metadata": {},
   "source": [
    "### Floor division"
   ]
  },
  {
   "cell_type": "code",
   "execution_count": 4,
   "id": "7ffb7e70",
   "metadata": {},
   "outputs": [
    {
     "name": "stdout",
     "output_type": "stream",
     "text": [
      "1\n"
     ]
    }
   ],
   "source": [
    "x = 19\n",
    "y = 2\n",
    "print(x % y)"
   ]
  },
  {
   "cell_type": "markdown",
   "id": "87ee3ffb",
   "metadata": {},
   "source": [
    "# Python Assignment Operator\n",
    "\n",
    "Assignment operators are used to assigned values to variable"
   ]
  },
  {
   "cell_type": "code",
   "execution_count": 7,
   "id": "bc5a49d9",
   "metadata": {},
   "outputs": [
    {
     "name": "stdout",
     "output_type": "stream",
     "text": [
      "20\n"
     ]
    }
   ],
   "source": [
    "x = 17\n",
    "y = x + 3\n",
    "print(y)"
   ]
  },
  {
   "cell_type": "markdown",
   "id": "1cad8642",
   "metadata": {},
   "source": [
    "# Python comparison operators\n",
    "\n",
    "Comparison operators are used to compare two values:"
   ]
  },
  {
   "cell_type": "code",
   "execution_count": 6,
   "id": "9c5639ae",
   "metadata": {},
   "outputs": [
    {
     "name": "stdout",
     "output_type": "stream",
     "text": [
      "True\n",
      "False\n",
      "False\n",
      "False\n",
      "True\n",
      "True\n"
     ]
    }
   ],
   "source": [
    "x = 4\n",
    "y = 4\n",
    "\n",
    "print(x==y)\n",
    "print(x!=y) # Not Equal\n",
    "print(x>y)\n",
    "print(x<y)\n",
    "print(x>=y)\n",
    "print(x<=y)"
   ]
  },
  {
   "cell_type": "markdown",
   "id": "88b48bfb",
   "metadata": {},
   "source": [
    "# Python logical operator\n",
    "\n",
    "Logical Operator are used to combine conditional statements"
   ]
  },
  {
   "cell_type": "code",
   "execution_count": 10,
   "id": "b03546d4",
   "metadata": {},
   "outputs": [
    {
     "name": "stdout",
     "output_type": "stream",
     "text": [
      "True\n",
      "True\n",
      "True\n"
     ]
    }
   ],
   "source": [
    "x = 11\n",
    "print(x > 3 and x < 15)\n",
    "print(x > 3 or x < 4)\n",
    "print(not(x > 3 and x < 10))"
   ]
  },
  {
   "cell_type": "markdown",
   "id": "023c8293",
   "metadata": {},
   "source": [
    "# Python membership operators\n",
    "\n",
    "Membership Operators are used to test if a sequence is presented in an object"
   ]
  },
  {
   "cell_type": "code",
   "execution_count": 12,
   "id": "a2f4500d",
   "metadata": {
    "scrolled": false
   },
   "outputs": [
    {
     "name": "stdout",
     "output_type": "stream",
     "text": [
      "True\n"
     ]
    }
   ],
   "source": [
    "x = [\"Digambar\",\"Mahesh\",\"Dipak\"]  # Case Sencitive\n",
    "\n",
    "print(\"Digambar\" in x)"
   ]
  },
  {
   "cell_type": "code",
   "execution_count": 13,
   "id": "87301358",
   "metadata": {
    "scrolled": true
   },
   "outputs": [
    {
     "name": "stdout",
     "output_type": "stream",
     "text": [
      "True\n"
     ]
    }
   ],
   "source": [
    "x = [\"apple\",\"banana\"]\n",
    "\n",
    "print(\"pineapple\" not in x)"
   ]
  },
  {
   "cell_type": "markdown",
   "id": "43669952",
   "metadata": {},
   "source": [
    "# Python Identity Operators"
   ]
  },
  {
   "cell_type": "code",
   "execution_count": 14,
   "id": "28475a6d",
   "metadata": {},
   "outputs": [
    {
     "name": "stdout",
     "output_type": "stream",
     "text": [
      "True\n",
      "False\n",
      "True\n"
     ]
    }
   ],
   "source": [
    "x = [\"apple\",\"banana\"]\n",
    "y = [\"apple\",\"banana\"]\n",
    "z = x\n",
    "\n",
    "print(x is z)\n",
    "print(x is y)\n",
    "print(x == y)"
   ]
  },
  {
   "cell_type": "markdown",
   "id": "0dbd558a",
   "metadata": {},
   "source": [
    "#### id is actually address of the variable"
   ]
  },
  {
   "cell_type": "code",
   "execution_count": 15,
   "id": "3373e371",
   "metadata": {},
   "outputs": [
    {
     "name": "stdout",
     "output_type": "stream",
     "text": [
      "2601316629696\n",
      "2601317022272\n",
      "2601316629696\n"
     ]
    }
   ],
   "source": [
    "print(id(x))\n",
    "print(id(y))\n",
    "print(id(z))"
   ]
  }
 ],
 "metadata": {
  "kernelspec": {
   "display_name": "Python 3 (ipykernel)",
   "language": "python",
   "name": "python3"
  },
  "language_info": {
   "codemirror_mode": {
    "name": "ipython",
    "version": 3
   },
   "file_extension": ".py",
   "mimetype": "text/x-python",
   "name": "python",
   "nbconvert_exporter": "python",
   "pygments_lexer": "ipython3",
   "version": "3.9.7"
  }
 },
 "nbformat": 4,
 "nbformat_minor": 5
}
